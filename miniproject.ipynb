{
 "cells": [
  {
   "cell_type": "markdown",
   "id": "5c1a3c5e-b4d7-4b41-9e81-02dce9741c19",
   "metadata": {},
   "source": [
    "# Mini Project"
   ]
  },
  {
   "cell_type": "markdown",
   "id": "4ff57c17-23e8-4f5f-b831-49b60739d5fc",
   "metadata": {},
   "source": [
    "### Eliot Harrell"
   ]
  },
  {
   "cell_type": "markdown",
   "id": "1b3cd657-c85e-4a11-8ee5-076f353cd01c",
   "metadata": {},
   "source": [
    "Research Question: Which electric car companies are dominating the market?\n",
    "\n",
    "Dataset Description: Data for all currently registered (as of September 2025) electric vehicles in Washington State. Chosen because Washington incentivizes electric vehicle use and is therefore a good microcosm for the competition between manufacturers.\n",
    "\n",
    "[Dataset](https://catalog.data.gov/dataset/electric-vehicle-population-data)"
   ]
  },
  {
   "cell_type": "code",
   "execution_count": 1,
   "id": "88aa8808-6ed2-44c2-bd44-1b6e844acbdc",
   "metadata": {},
   "outputs": [
    {
     "data": {
      "text/html": [
       "<div>\n",
       "<style scoped>\n",
       "    .dataframe tbody tr th:only-of-type {\n",
       "        vertical-align: middle;\n",
       "    }\n",
       "\n",
       "    .dataframe tbody tr th {\n",
       "        vertical-align: top;\n",
       "    }\n",
       "\n",
       "    .dataframe thead th {\n",
       "        text-align: right;\n",
       "    }\n",
       "</style>\n",
       "<table border=\"1\" class=\"dataframe\">\n",
       "  <thead>\n",
       "    <tr style=\"text-align: right;\">\n",
       "      <th></th>\n",
       "      <th>VIN (1-10)</th>\n",
       "      <th>County</th>\n",
       "      <th>City</th>\n",
       "      <th>State</th>\n",
       "      <th>Postal Code</th>\n",
       "      <th>Model Year</th>\n",
       "      <th>Make</th>\n",
       "      <th>Model</th>\n",
       "      <th>Electric Vehicle Type</th>\n",
       "      <th>Clean Alternative Fuel Vehicle (CAFV) Eligibility</th>\n",
       "      <th>Electric Range</th>\n",
       "      <th>Base MSRP</th>\n",
       "      <th>Legislative District</th>\n",
       "      <th>DOL Vehicle ID</th>\n",
       "      <th>Vehicle Location</th>\n",
       "      <th>Electric Utility</th>\n",
       "      <th>2020 Census Tract</th>\n",
       "    </tr>\n",
       "  </thead>\n",
       "  <tbody>\n",
       "    <tr>\n",
       "      <th>0</th>\n",
       "      <td>JTDKN3DP2D</td>\n",
       "      <td>Yakima</td>\n",
       "      <td>Yakima</td>\n",
       "      <td>WA</td>\n",
       "      <td>98902.0</td>\n",
       "      <td>2013</td>\n",
       "      <td>TOYOTA</td>\n",
       "      <td>PRIUS</td>\n",
       "      <td>Plug-in Hybrid Electric Vehicle (PHEV)</td>\n",
       "      <td>Not eligible due to low battery range</td>\n",
       "      <td>6.0</td>\n",
       "      <td>0.0</td>\n",
       "      <td>15.0</td>\n",
       "      <td>165252538</td>\n",
       "      <td>POINT (-120.51904 46.59783)</td>\n",
       "      <td>PACIFICORP</td>\n",
       "      <td>5.307700e+10</td>\n",
       "    </tr>\n",
       "    <tr>\n",
       "      <th>1</th>\n",
       "      <td>1FMCU0E1XS</td>\n",
       "      <td>Kitsap</td>\n",
       "      <td>Port Orchard</td>\n",
       "      <td>WA</td>\n",
       "      <td>98366.0</td>\n",
       "      <td>2025</td>\n",
       "      <td>FORD</td>\n",
       "      <td>ESCAPE</td>\n",
       "      <td>Plug-in Hybrid Electric Vehicle (PHEV)</td>\n",
       "      <td>Clean Alternative Fuel Vehicle Eligible</td>\n",
       "      <td>37.0</td>\n",
       "      <td>0.0</td>\n",
       "      <td>26.0</td>\n",
       "      <td>278572521</td>\n",
       "      <td>POINT (-122.63847 47.54103)</td>\n",
       "      <td>PUGET SOUND ENERGY INC</td>\n",
       "      <td>5.303509e+10</td>\n",
       "    </tr>\n",
       "    <tr>\n",
       "      <th>2</th>\n",
       "      <td>JM3KKBHA9R</td>\n",
       "      <td>Kitsap</td>\n",
       "      <td>Kingston</td>\n",
       "      <td>WA</td>\n",
       "      <td>98346.0</td>\n",
       "      <td>2024</td>\n",
       "      <td>MAZDA</td>\n",
       "      <td>CX-90</td>\n",
       "      <td>Plug-in Hybrid Electric Vehicle (PHEV)</td>\n",
       "      <td>Not eligible due to low battery range</td>\n",
       "      <td>26.0</td>\n",
       "      <td>0.0</td>\n",
       "      <td>23.0</td>\n",
       "      <td>275123642</td>\n",
       "      <td>POINT (-122.4977 47.79802)</td>\n",
       "      <td>PUGET SOUND ENERGY INC</td>\n",
       "      <td>5.303509e+10</td>\n",
       "    </tr>\n",
       "    <tr>\n",
       "      <th>3</th>\n",
       "      <td>7SAYGDEE8P</td>\n",
       "      <td>Thurston</td>\n",
       "      <td>Olympia</td>\n",
       "      <td>WA</td>\n",
       "      <td>98501.0</td>\n",
       "      <td>2023</td>\n",
       "      <td>TESLA</td>\n",
       "      <td>MODEL Y</td>\n",
       "      <td>Battery Electric Vehicle (BEV)</td>\n",
       "      <td>Eligibility unknown as battery range has not b...</td>\n",
       "      <td>0.0</td>\n",
       "      <td>0.0</td>\n",
       "      <td>35.0</td>\n",
       "      <td>249569323</td>\n",
       "      <td>POINT (-122.89165 47.03954)</td>\n",
       "      <td>PUGET SOUND ENERGY INC</td>\n",
       "      <td>5.306701e+10</td>\n",
       "    </tr>\n",
       "    <tr>\n",
       "      <th>4</th>\n",
       "      <td>5YJ3E1EB5K</td>\n",
       "      <td>Thurston</td>\n",
       "      <td>Rainier</td>\n",
       "      <td>WA</td>\n",
       "      <td>98576.0</td>\n",
       "      <td>2019</td>\n",
       "      <td>TESLA</td>\n",
       "      <td>MODEL 3</td>\n",
       "      <td>Battery Electric Vehicle (BEV)</td>\n",
       "      <td>Clean Alternative Fuel Vehicle Eligible</td>\n",
       "      <td>220.0</td>\n",
       "      <td>0.0</td>\n",
       "      <td>20.0</td>\n",
       "      <td>283135107</td>\n",
       "      <td>POINT (-122.68993 46.88897)</td>\n",
       "      <td>PUGET SOUND ENERGY INC</td>\n",
       "      <td>5.306701e+10</td>\n",
       "    </tr>\n",
       "  </tbody>\n",
       "</table>\n",
       "</div>"
      ],
      "text/plain": [
       "   VIN (1-10)    County          City State  Postal Code  Model Year    Make  \\\n",
       "0  JTDKN3DP2D    Yakima        Yakima    WA      98902.0        2013  TOYOTA   \n",
       "1  1FMCU0E1XS    Kitsap  Port Orchard    WA      98366.0        2025    FORD   \n",
       "2  JM3KKBHA9R    Kitsap      Kingston    WA      98346.0        2024   MAZDA   \n",
       "3  7SAYGDEE8P  Thurston       Olympia    WA      98501.0        2023   TESLA   \n",
       "4  5YJ3E1EB5K  Thurston       Rainier    WA      98576.0        2019   TESLA   \n",
       "\n",
       "     Model                   Electric Vehicle Type  \\\n",
       "0    PRIUS  Plug-in Hybrid Electric Vehicle (PHEV)   \n",
       "1   ESCAPE  Plug-in Hybrid Electric Vehicle (PHEV)   \n",
       "2    CX-90  Plug-in Hybrid Electric Vehicle (PHEV)   \n",
       "3  MODEL Y          Battery Electric Vehicle (BEV)   \n",
       "4  MODEL 3          Battery Electric Vehicle (BEV)   \n",
       "\n",
       "   Clean Alternative Fuel Vehicle (CAFV) Eligibility  Electric Range  \\\n",
       "0              Not eligible due to low battery range             6.0   \n",
       "1            Clean Alternative Fuel Vehicle Eligible            37.0   \n",
       "2              Not eligible due to low battery range            26.0   \n",
       "3  Eligibility unknown as battery range has not b...             0.0   \n",
       "4            Clean Alternative Fuel Vehicle Eligible           220.0   \n",
       "\n",
       "   Base MSRP  Legislative District  DOL Vehicle ID  \\\n",
       "0        0.0                  15.0       165252538   \n",
       "1        0.0                  26.0       278572521   \n",
       "2        0.0                  23.0       275123642   \n",
       "3        0.0                  35.0       249569323   \n",
       "4        0.0                  20.0       283135107   \n",
       "\n",
       "              Vehicle Location        Electric Utility  2020 Census Tract  \n",
       "0  POINT (-120.51904 46.59783)              PACIFICORP       5.307700e+10  \n",
       "1  POINT (-122.63847 47.54103)  PUGET SOUND ENERGY INC       5.303509e+10  \n",
       "2   POINT (-122.4977 47.79802)  PUGET SOUND ENERGY INC       5.303509e+10  \n",
       "3  POINT (-122.89165 47.03954)  PUGET SOUND ENERGY INC       5.306701e+10  \n",
       "4  POINT (-122.68993 46.88897)  PUGET SOUND ENERGY INC       5.306701e+10  "
      ]
     },
     "execution_count": 1,
     "metadata": {},
     "output_type": "execute_result"
    }
   ],
   "source": [
    "import warnings\n",
    "warnings.simplefilter('ignore')\n",
    "\n",
    "import pandas as pd\n",
    "\n",
    "df = pd.read_csv('s3://ia-340-2025-fall-harrell-7337/Electric_Vehicle_Population_Data.csv') # load the data from s3\n",
    "df.head()"
   ]
  },
  {
   "cell_type": "markdown",
   "id": "78addc58-cb82-4925-bab5-8f0c63abc514",
   "metadata": {},
   "source": [
    "### Show descriptive statistics, information, and clean data"
   ]
  },
  {
   "cell_type": "markdown",
   "id": "b32fcb97-dd3a-4458-a648-890856a22e41",
   "metadata": {},
   "source": [
    "Displaying basic information:"
   ]
  },
  {
   "cell_type": "code",
   "execution_count": 2,
   "id": "a48b6614-11a3-45e0-a9b4-e9d21d1d02a9",
   "metadata": {},
   "outputs": [
    {
     "name": "stdout",
     "output_type": "stream",
     "text": [
      "<class 'pandas.core.frame.DataFrame'>\n",
      "RangeIndex: 261698 entries, 0 to 261697\n",
      "Data columns (total 17 columns):\n",
      " #   Column                                             Non-Null Count   Dtype  \n",
      "---  ------                                             --------------   -----  \n",
      " 0   VIN (1-10)                                         261698 non-null  object \n",
      " 1   County                                             261688 non-null  object \n",
      " 2   City                                               261688 non-null  object \n",
      " 3   State                                              261698 non-null  object \n",
      " 4   Postal Code                                        261688 non-null  float64\n",
      " 5   Model Year                                         261698 non-null  int64  \n",
      " 6   Make                                               261698 non-null  object \n",
      " 7   Model                                              261698 non-null  object \n",
      " 8   Electric Vehicle Type                              261698 non-null  object \n",
      " 9   Clean Alternative Fuel Vehicle (CAFV) Eligibility  261698 non-null  object \n",
      " 10  Electric Range                                     261695 non-null  float64\n",
      " 11  Base MSRP                                          261695 non-null  float64\n",
      " 12  Legislative District                               261070 non-null  float64\n",
      " 13  DOL Vehicle ID                                     261698 non-null  int64  \n",
      " 14  Vehicle Location                                   261680 non-null  object \n",
      " 15  Electric Utility                                   261688 non-null  object \n",
      " 16  2020 Census Tract                                  261688 non-null  float64\n",
      "dtypes: float64(5), int64(2), object(10)\n",
      "memory usage: 33.9+ MB\n"
     ]
    }
   ],
   "source": [
    "df.info()"
   ]
  },
  {
   "cell_type": "markdown",
   "id": "4f2f0ca3-9826-464b-aaea-8271c1c37225",
   "metadata": {},
   "source": [
    "Displaying descriptive statistics:"
   ]
  },
  {
   "cell_type": "code",
   "execution_count": 3,
   "id": "5e7eadcb-3b4d-4320-837d-b37b5c752690",
   "metadata": {},
   "outputs": [
    {
     "data": {
      "text/html": [
       "<div>\n",
       "<style scoped>\n",
       "    .dataframe tbody tr th:only-of-type {\n",
       "        vertical-align: middle;\n",
       "    }\n",
       "\n",
       "    .dataframe tbody tr th {\n",
       "        vertical-align: top;\n",
       "    }\n",
       "\n",
       "    .dataframe thead th {\n",
       "        text-align: right;\n",
       "    }\n",
       "</style>\n",
       "<table border=\"1\" class=\"dataframe\">\n",
       "  <thead>\n",
       "    <tr style=\"text-align: right;\">\n",
       "      <th></th>\n",
       "      <th>Postal Code</th>\n",
       "      <th>Model Year</th>\n",
       "      <th>Electric Range</th>\n",
       "      <th>Base MSRP</th>\n",
       "      <th>Legislative District</th>\n",
       "      <th>DOL Vehicle ID</th>\n",
       "      <th>2020 Census Tract</th>\n",
       "    </tr>\n",
       "  </thead>\n",
       "  <tbody>\n",
       "    <tr>\n",
       "      <th>count</th>\n",
       "      <td>261688.000000</td>\n",
       "      <td>261698.000000</td>\n",
       "      <td>261695.000000</td>\n",
       "      <td>261695.000000</td>\n",
       "      <td>261070.000000</td>\n",
       "      <td>2.616980e+05</td>\n",
       "      <td>2.616880e+05</td>\n",
       "    </tr>\n",
       "    <tr>\n",
       "      <th>mean</th>\n",
       "      <td>98176.150699</td>\n",
       "      <td>2021.772493</td>\n",
       "      <td>42.615071</td>\n",
       "      <td>695.503563</td>\n",
       "      <td>28.881955</td>\n",
       "      <td>2.412577e+08</td>\n",
       "      <td>5.297261e+10</td>\n",
       "    </tr>\n",
       "    <tr>\n",
       "      <th>std</th>\n",
       "      <td>2555.753410</td>\n",
       "      <td>3.034041</td>\n",
       "      <td>81.226054</td>\n",
       "      <td>6943.019653</td>\n",
       "      <td>14.889697</td>\n",
       "      <td>6.574252e+07</td>\n",
       "      <td>1.628791e+09</td>\n",
       "    </tr>\n",
       "    <tr>\n",
       "      <th>min</th>\n",
       "      <td>1469.000000</td>\n",
       "      <td>2000.000000</td>\n",
       "      <td>0.000000</td>\n",
       "      <td>0.000000</td>\n",
       "      <td>1.000000</td>\n",
       "      <td>4.385000e+03</td>\n",
       "      <td>1.001020e+09</td>\n",
       "    </tr>\n",
       "    <tr>\n",
       "      <th>25%</th>\n",
       "      <td>98052.000000</td>\n",
       "      <td>2020.000000</td>\n",
       "      <td>0.000000</td>\n",
       "      <td>0.000000</td>\n",
       "      <td>17.000000</td>\n",
       "      <td>2.150419e+08</td>\n",
       "      <td>5.303301e+10</td>\n",
       "    </tr>\n",
       "    <tr>\n",
       "      <th>50%</th>\n",
       "      <td>98133.000000</td>\n",
       "      <td>2023.000000</td>\n",
       "      <td>0.000000</td>\n",
       "      <td>0.000000</td>\n",
       "      <td>32.000000</td>\n",
       "      <td>2.594588e+08</td>\n",
       "      <td>5.303303e+10</td>\n",
       "    </tr>\n",
       "    <tr>\n",
       "      <th>75%</th>\n",
       "      <td>98382.000000</td>\n",
       "      <td>2024.000000</td>\n",
       "      <td>35.000000</td>\n",
       "      <td>0.000000</td>\n",
       "      <td>42.000000</td>\n",
       "      <td>2.746481e+08</td>\n",
       "      <td>5.305307e+10</td>\n",
       "    </tr>\n",
       "    <tr>\n",
       "      <th>max</th>\n",
       "      <td>99577.000000</td>\n",
       "      <td>2026.000000</td>\n",
       "      <td>337.000000</td>\n",
       "      <td>845000.000000</td>\n",
       "      <td>49.000000</td>\n",
       "      <td>4.791150e+08</td>\n",
       "      <td>6.601095e+10</td>\n",
       "    </tr>\n",
       "  </tbody>\n",
       "</table>\n",
       "</div>"
      ],
      "text/plain": [
       "         Postal Code     Model Year  Electric Range      Base MSRP  \\\n",
       "count  261688.000000  261698.000000   261695.000000  261695.000000   \n",
       "mean    98176.150699    2021.772493       42.615071     695.503563   \n",
       "std      2555.753410       3.034041       81.226054    6943.019653   \n",
       "min      1469.000000    2000.000000        0.000000       0.000000   \n",
       "25%     98052.000000    2020.000000        0.000000       0.000000   \n",
       "50%     98133.000000    2023.000000        0.000000       0.000000   \n",
       "75%     98382.000000    2024.000000       35.000000       0.000000   \n",
       "max     99577.000000    2026.000000      337.000000  845000.000000   \n",
       "\n",
       "       Legislative District  DOL Vehicle ID  2020 Census Tract  \n",
       "count         261070.000000    2.616980e+05       2.616880e+05  \n",
       "mean              28.881955    2.412577e+08       5.297261e+10  \n",
       "std               14.889697    6.574252e+07       1.628791e+09  \n",
       "min                1.000000    4.385000e+03       1.001020e+09  \n",
       "25%               17.000000    2.150419e+08       5.303301e+10  \n",
       "50%               32.000000    2.594588e+08       5.303303e+10  \n",
       "75%               42.000000    2.746481e+08       5.305307e+10  \n",
       "max               49.000000    4.791150e+08       6.601095e+10  "
      ]
     },
     "execution_count": 3,
     "metadata": {},
     "output_type": "execute_result"
    }
   ],
   "source": [
    "df.describe()"
   ]
  },
  {
   "cell_type": "markdown",
   "id": "cf4821dd-fcde-408b-8ab4-047ac51cc118",
   "metadata": {},
   "source": [
    "Dropping duplicates and null values:"
   ]
  },
  {
   "cell_type": "code",
   "execution_count": 4,
   "id": "17564793-3637-40fc-a31d-3b722e44455b",
   "metadata": {},
   "outputs": [],
   "source": [
    "df.dropna(inplace=True)\n",
    "df.drop_duplicates(inplace=True)"
   ]
  },
  {
   "cell_type": "code",
   "execution_count": 5,
   "id": "07be4a1a-3a1b-4de7-96d6-4ff1527e25f9",
   "metadata": {},
   "outputs": [
    {
     "name": "stdout",
     "output_type": "stream",
     "text": [
      "<class 'pandas.core.frame.DataFrame'>\n",
      "Index: 261059 entries, 0 to 261697\n",
      "Data columns (total 17 columns):\n",
      " #   Column                                             Non-Null Count   Dtype  \n",
      "---  ------                                             --------------   -----  \n",
      " 0   VIN (1-10)                                         261059 non-null  object \n",
      " 1   County                                             261059 non-null  object \n",
      " 2   City                                               261059 non-null  object \n",
      " 3   State                                              261059 non-null  object \n",
      " 4   Postal Code                                        261059 non-null  float64\n",
      " 5   Model Year                                         261059 non-null  int64  \n",
      " 6   Make                                               261059 non-null  object \n",
      " 7   Model                                              261059 non-null  object \n",
      " 8   Electric Vehicle Type                              261059 non-null  object \n",
      " 9   Clean Alternative Fuel Vehicle (CAFV) Eligibility  261059 non-null  object \n",
      " 10  Electric Range                                     261059 non-null  float64\n",
      " 11  Base MSRP                                          261059 non-null  float64\n",
      " 12  Legislative District                               261059 non-null  float64\n",
      " 13  DOL Vehicle ID                                     261059 non-null  int64  \n",
      " 14  Vehicle Location                                   261059 non-null  object \n",
      " 15  Electric Utility                                   261059 non-null  object \n",
      " 16  2020 Census Tract                                  261059 non-null  float64\n",
      "dtypes: float64(5), int64(2), object(10)\n",
      "memory usage: 35.9+ MB\n"
     ]
    }
   ],
   "source": [
    "df.info()"
   ]
  },
  {
   "cell_type": "markdown",
   "id": "6e4a87e4-5e67-4e79-b338-f65ce627b61f",
   "metadata": {},
   "source": [
    "The above operations removed a large number of duplicate values."
   ]
  },
  {
   "cell_type": "markdown",
   "id": "f9c30b12-4436-419d-9d5a-d81a637dc47f",
   "metadata": {},
   "source": [
    "Importing AI tools:"
   ]
  },
  {
   "cell_type": "code",
   "execution_count": 6,
   "id": "6d6299c0-393a-42eb-bf27-10db2e55ed74",
   "metadata": {},
   "outputs": [],
   "source": [
    "import boto3\n",
    "from botocore.exceptions import ClientError\n",
    "import json\n",
    "\n",
    "def get_secret(secret_name):\n",
    "    region_name = \"us-east-1\"\n",
    "\n",
    "    # Create a Secrets Manager client\n",
    "    session = boto3.session.Session()\n",
    "    client = session.client(\n",
    "        service_name='secretsmanager',\n",
    "        region_name=region_name\n",
    "    )\n",
    "\n",
    "    try:\n",
    "        get_secret_value_response = client.get_secret_value(\n",
    "            SecretId=secret_name\n",
    "        )\n",
    "    except ClientError as e:\n",
    "        raise e\n",
    "\n",
    "    secret = get_secret_value_response['SecretString']\n",
    "    \n",
    "    return json.loads(secret)"
   ]
  },
  {
   "cell_type": "code",
   "execution_count": 7,
   "id": "06b63552-5c98-49d4-affe-e44b7e215977",
   "metadata": {},
   "outputs": [
    {
     "name": "stdout",
     "output_type": "stream",
     "text": [
      "Requirement already satisfied: pip in /home/ec2-user/anaconda3/envs/python3/lib/python3.10/site-packages (25.2)\n",
      "Requirement already satisfied: setuptools in /home/ec2-user/anaconda3/envs/python3/lib/python3.10/site-packages (80.9.0)\n",
      "Requirement already satisfied: wheel in /home/ec2-user/anaconda3/envs/python3/lib/python3.10/site-packages (0.45.1)\n",
      "Note: you may need to restart the kernel to use updated packages.\n"
     ]
    }
   ],
   "source": [
    "pip install -U pip setuptools wheel"
   ]
  },
  {
   "cell_type": "code",
   "execution_count": 8,
   "id": "d85651ca-d32a-468e-8cb3-2e35a9ee4ea4",
   "metadata": {},
   "outputs": [
    {
     "name": "stdout",
     "output_type": "stream",
     "text": [
      "Requirement already satisfied: tiktoken>=0.7.0 in /home/ec2-user/anaconda3/envs/python3/lib/python3.10/site-packages (0.11.0)\n",
      "Requirement already satisfied: regex>=2022.1.18 in /home/ec2-user/anaconda3/envs/python3/lib/python3.10/site-packages (from tiktoken>=0.7.0) (2025.9.18)\n",
      "Requirement already satisfied: requests>=2.26.0 in /home/ec2-user/anaconda3/envs/python3/lib/python3.10/site-packages (from tiktoken>=0.7.0) (2.32.5)\n",
      "Requirement already satisfied: charset_normalizer<4,>=2 in /home/ec2-user/anaconda3/envs/python3/lib/python3.10/site-packages (from requests>=2.26.0->tiktoken>=0.7.0) (3.4.3)\n",
      "Requirement already satisfied: idna<4,>=2.5 in /home/ec2-user/anaconda3/envs/python3/lib/python3.10/site-packages (from requests>=2.26.0->tiktoken>=0.7.0) (3.10)\n",
      "Requirement already satisfied: urllib3<3,>=1.21.1 in /home/ec2-user/anaconda3/envs/python3/lib/python3.10/site-packages (from requests>=2.26.0->tiktoken>=0.7.0) (2.5.0)\n",
      "Requirement already satisfied: certifi>=2017.4.17 in /home/ec2-user/anaconda3/envs/python3/lib/python3.10/site-packages (from requests>=2.26.0->tiktoken>=0.7.0) (2025.8.3)\n",
      "Note: you may need to restart the kernel to use updated packages.\n"
     ]
    }
   ],
   "source": [
    "pip install --only-binary=:all: \"tiktoken>=0.7.0\""
   ]
  },
  {
   "cell_type": "code",
   "execution_count": 9,
   "id": "f83d29a3-0fc8-443b-9077-6ab2c7ef90d4",
   "metadata": {},
   "outputs": [
    {
     "name": "stdout",
     "output_type": "stream",
     "text": [
      "Note: you may need to restart the kernel to use updated packages.\n"
     ]
    }
   ],
   "source": [
    "pip install jupyter-ai-magics[all] -q"
   ]
  },
  {
   "cell_type": "code",
   "execution_count": 10,
   "id": "1bd39809-4b4d-424a-a1a3-1a62b0379aaa",
   "metadata": {},
   "outputs": [],
   "source": [
    "import os\n",
    "os.environ[\"OPENAI_API_KEY\"] = get_secret('openai')['api_key']"
   ]
  },
  {
   "cell_type": "code",
   "execution_count": 11,
   "id": "42a87f49-7016-4b10-a15f-43f141ebe511",
   "metadata": {},
   "outputs": [],
   "source": [
    "%load_ext jupyter_ai_magics"
   ]
  },
  {
   "cell_type": "markdown",
   "id": "2d0fa954-fc20-4610-85ba-747e24d3fab9",
   "metadata": {},
   "source": [
    "Creating a new table:"
   ]
  },
  {
   "cell_type": "code",
   "execution_count": 12,
   "id": "b210ad79-8c89-47f3-872e-953becd32d42",
   "metadata": {},
   "outputs": [
    {
     "data": {
      "text/html": [
       "AI generated code inserted below &#11015;&#65039;"
      ],
      "text/plain": [
       "<IPython.core.display.HTML object>"
      ]
     },
     "execution_count": 12,
     "metadata": {
      "text/html": {
       "jupyter_ai": {
        "model_id": "gpt-4",
        "provider_id": "openai-chat"
       }
      }
     },
     "output_type": "execute_result"
    }
   ],
   "source": [
    "%%ai gpt4 -f code\n",
    "Using the dataframe established in {In[1]} and {Out[1]}, create a table that contains the most frequent Make value for each Model Year value.\n",
    "For example, since Ford was the only company that is represented for 2000, FORD would be the most frequent for that year.\n",
    "Assign this table to a new dataframe, make_year."
   ]
  },
  {
   "cell_type": "code",
   "execution_count": 13,
   "id": "2544b276-393c-4dc0-ac4c-f24ce429a0f6",
   "metadata": {},
   "outputs": [],
   "source": [
    "make_year = df.groupby('Model Year')['Make'].agg(lambda x:x.value_counts().index[0]).reset_index()"
   ]
  },
  {
   "cell_type": "code",
   "execution_count": 14,
   "id": "064e2145-6800-49d0-ab25-ad036d59b451",
   "metadata": {},
   "outputs": [
    {
     "data": {
      "text/html": [
       "<div>\n",
       "<style scoped>\n",
       "    .dataframe tbody tr th:only-of-type {\n",
       "        vertical-align: middle;\n",
       "    }\n",
       "\n",
       "    .dataframe tbody tr th {\n",
       "        vertical-align: top;\n",
       "    }\n",
       "\n",
       "    .dataframe thead th {\n",
       "        text-align: right;\n",
       "    }\n",
       "</style>\n",
       "<table border=\"1\" class=\"dataframe\">\n",
       "  <thead>\n",
       "    <tr style=\"text-align: right;\">\n",
       "      <th></th>\n",
       "      <th>Model Year</th>\n",
       "      <th>Make</th>\n",
       "    </tr>\n",
       "  </thead>\n",
       "  <tbody>\n",
       "    <tr>\n",
       "      <th>0</th>\n",
       "      <td>2000</td>\n",
       "      <td>FORD</td>\n",
       "    </tr>\n",
       "    <tr>\n",
       "      <th>1</th>\n",
       "      <td>2002</td>\n",
       "      <td>TOYOTA</td>\n",
       "    </tr>\n",
       "    <tr>\n",
       "      <th>2</th>\n",
       "      <td>2003</td>\n",
       "      <td>TOYOTA</td>\n",
       "    </tr>\n",
       "    <tr>\n",
       "      <th>3</th>\n",
       "      <td>2008</td>\n",
       "      <td>TESLA</td>\n",
       "    </tr>\n",
       "    <tr>\n",
       "      <th>4</th>\n",
       "      <td>2010</td>\n",
       "      <td>TESLA</td>\n",
       "    </tr>\n",
       "    <tr>\n",
       "      <th>5</th>\n",
       "      <td>2011</td>\n",
       "      <td>NISSAN</td>\n",
       "    </tr>\n",
       "    <tr>\n",
       "      <th>6</th>\n",
       "      <td>2012</td>\n",
       "      <td>NISSAN</td>\n",
       "    </tr>\n",
       "    <tr>\n",
       "      <th>7</th>\n",
       "      <td>2013</td>\n",
       "      <td>NISSAN</td>\n",
       "    </tr>\n",
       "    <tr>\n",
       "      <th>8</th>\n",
       "      <td>2014</td>\n",
       "      <td>CHEVROLET</td>\n",
       "    </tr>\n",
       "    <tr>\n",
       "      <th>9</th>\n",
       "      <td>2015</td>\n",
       "      <td>NISSAN</td>\n",
       "    </tr>\n",
       "    <tr>\n",
       "      <th>10</th>\n",
       "      <td>2016</td>\n",
       "      <td>TESLA</td>\n",
       "    </tr>\n",
       "    <tr>\n",
       "      <th>11</th>\n",
       "      <td>2017</td>\n",
       "      <td>CHEVROLET</td>\n",
       "    </tr>\n",
       "    <tr>\n",
       "      <th>12</th>\n",
       "      <td>2018</td>\n",
       "      <td>TESLA</td>\n",
       "    </tr>\n",
       "    <tr>\n",
       "      <th>13</th>\n",
       "      <td>2019</td>\n",
       "      <td>TESLA</td>\n",
       "    </tr>\n",
       "    <tr>\n",
       "      <th>14</th>\n",
       "      <td>2020</td>\n",
       "      <td>TESLA</td>\n",
       "    </tr>\n",
       "    <tr>\n",
       "      <th>15</th>\n",
       "      <td>2021</td>\n",
       "      <td>TESLA</td>\n",
       "    </tr>\n",
       "    <tr>\n",
       "      <th>16</th>\n",
       "      <td>2022</td>\n",
       "      <td>TESLA</td>\n",
       "    </tr>\n",
       "    <tr>\n",
       "      <th>17</th>\n",
       "      <td>2023</td>\n",
       "      <td>TESLA</td>\n",
       "    </tr>\n",
       "    <tr>\n",
       "      <th>18</th>\n",
       "      <td>2024</td>\n",
       "      <td>TESLA</td>\n",
       "    </tr>\n",
       "    <tr>\n",
       "      <th>19</th>\n",
       "      <td>2025</td>\n",
       "      <td>TESLA</td>\n",
       "    </tr>\n",
       "    <tr>\n",
       "      <th>20</th>\n",
       "      <td>2026</td>\n",
       "      <td>TESLA</td>\n",
       "    </tr>\n",
       "  </tbody>\n",
       "</table>\n",
       "</div>"
      ],
      "text/plain": [
       "    Model Year       Make\n",
       "0         2000       FORD\n",
       "1         2002     TOYOTA\n",
       "2         2003     TOYOTA\n",
       "3         2008      TESLA\n",
       "4         2010      TESLA\n",
       "5         2011     NISSAN\n",
       "6         2012     NISSAN\n",
       "7         2013     NISSAN\n",
       "8         2014  CHEVROLET\n",
       "9         2015     NISSAN\n",
       "10        2016      TESLA\n",
       "11        2017  CHEVROLET\n",
       "12        2018      TESLA\n",
       "13        2019      TESLA\n",
       "14        2020      TESLA\n",
       "15        2021      TESLA\n",
       "16        2022      TESLA\n",
       "17        2023      TESLA\n",
       "18        2024      TESLA\n",
       "19        2025      TESLA\n",
       "20        2026      TESLA"
      ]
     },
     "execution_count": 14,
     "metadata": {},
     "output_type": "execute_result"
    }
   ],
   "source": [
    "make_year"
   ]
  },
  {
   "cell_type": "markdown",
   "id": "7dbf31bd-f2e2-4f24-8871-96d30f21b418",
   "metadata": {},
   "source": [
    "This new table implies that Tesla has been increasingly popular over the years."
   ]
  },
  {
   "cell_type": "code",
   "execution_count": 15,
   "id": "33e02524-32f8-4d41-8895-7f3b354be9ea",
   "metadata": {},
   "outputs": [
    {
     "data": {
      "text/html": [
       "AI generated code inserted below &#11015;&#65039;"
      ],
      "text/plain": [
       "<IPython.core.display.HTML object>"
      ]
     },
     "execution_count": 15,
     "metadata": {
      "text/html": {
       "jupyter_ai": {
        "model_id": "gpt-4",
        "provider_id": "openai-chat"
       }
      }
     },
     "output_type": "execute_result"
    }
   ],
   "source": [
    "%%ai gpt4 -f code\n",
    "Using the dataframe established in {In[1]} and {Out[1]}, show the make, model, and electrice range ONLY for the model year 2018.\n",
    "This should be contained in a dataframe called stats_2018."
   ]
  },
  {
   "cell_type": "code",
   "execution_count": 16,
   "id": "06c65c66-f381-410d-a7e1-59cb275d6190",
   "metadata": {},
   "outputs": [],
   "source": [
    "# Filter the data for the model year 2018 and select the required columns\n",
    "stats_2018 = df[df['Model Year'] == 2018][['Make', 'Model', 'Electric Range']]"
   ]
  },
  {
   "cell_type": "code",
   "execution_count": 17,
   "id": "676d5338-84a1-4a55-b227-a9ef24ac0fba",
   "metadata": {},
   "outputs": [
    {
     "data": {
      "text/html": [
       "<div>\n",
       "<style scoped>\n",
       "    .dataframe tbody tr th:only-of-type {\n",
       "        vertical-align: middle;\n",
       "    }\n",
       "\n",
       "    .dataframe tbody tr th {\n",
       "        vertical-align: top;\n",
       "    }\n",
       "\n",
       "    .dataframe thead th {\n",
       "        text-align: right;\n",
       "    }\n",
       "</style>\n",
       "<table border=\"1\" class=\"dataframe\">\n",
       "  <thead>\n",
       "    <tr style=\"text-align: right;\">\n",
       "      <th></th>\n",
       "      <th>Make</th>\n",
       "      <th>Model</th>\n",
       "      <th>Electric Range</th>\n",
       "    </tr>\n",
       "  </thead>\n",
       "  <tbody>\n",
       "    <tr>\n",
       "      <th>15</th>\n",
       "      <td>TESLA</td>\n",
       "      <td>MODEL S</td>\n",
       "      <td>249.0</td>\n",
       "    </tr>\n",
       "    <tr>\n",
       "      <th>18</th>\n",
       "      <td>CHEVROLET</td>\n",
       "      <td>BOLT EV</td>\n",
       "      <td>238.0</td>\n",
       "    </tr>\n",
       "    <tr>\n",
       "      <th>21</th>\n",
       "      <td>PORSCHE</td>\n",
       "      <td>PANAMERA</td>\n",
       "      <td>16.0</td>\n",
       "    </tr>\n",
       "    <tr>\n",
       "      <th>32</th>\n",
       "      <td>TESLA</td>\n",
       "      <td>MODEL S</td>\n",
       "      <td>249.0</td>\n",
       "    </tr>\n",
       "    <tr>\n",
       "      <th>40</th>\n",
       "      <td>TESLA</td>\n",
       "      <td>MODEL 3</td>\n",
       "      <td>215.0</td>\n",
       "    </tr>\n",
       "    <tr>\n",
       "      <th>...</th>\n",
       "      <td>...</td>\n",
       "      <td>...</td>\n",
       "      <td>...</td>\n",
       "    </tr>\n",
       "    <tr>\n",
       "      <th>261642</th>\n",
       "      <td>FORD</td>\n",
       "      <td>FUSION</td>\n",
       "      <td>21.0</td>\n",
       "    </tr>\n",
       "    <tr>\n",
       "      <th>261663</th>\n",
       "      <td>HONDA</td>\n",
       "      <td>CLARITY</td>\n",
       "      <td>47.0</td>\n",
       "    </tr>\n",
       "    <tr>\n",
       "      <th>261668</th>\n",
       "      <td>TESLA</td>\n",
       "      <td>MODEL X</td>\n",
       "      <td>238.0</td>\n",
       "    </tr>\n",
       "    <tr>\n",
       "      <th>261677</th>\n",
       "      <td>TESLA</td>\n",
       "      <td>MODEL 3</td>\n",
       "      <td>215.0</td>\n",
       "    </tr>\n",
       "    <tr>\n",
       "      <th>261690</th>\n",
       "      <td>TESLA</td>\n",
       "      <td>MODEL 3</td>\n",
       "      <td>215.0</td>\n",
       "    </tr>\n",
       "  </tbody>\n",
       "</table>\n",
       "<p>14479 rows × 3 columns</p>\n",
       "</div>"
      ],
      "text/plain": [
       "             Make     Model  Electric Range\n",
       "15          TESLA   MODEL S           249.0\n",
       "18      CHEVROLET   BOLT EV           238.0\n",
       "21        PORSCHE  PANAMERA            16.0\n",
       "32          TESLA   MODEL S           249.0\n",
       "40          TESLA   MODEL 3           215.0\n",
       "...           ...       ...             ...\n",
       "261642       FORD    FUSION            21.0\n",
       "261663      HONDA   CLARITY            47.0\n",
       "261668      TESLA   MODEL X           238.0\n",
       "261677      TESLA   MODEL 3           215.0\n",
       "261690      TESLA   MODEL 3           215.0\n",
       "\n",
       "[14479 rows x 3 columns]"
      ]
     },
     "execution_count": 17,
     "metadata": {},
     "output_type": "execute_result"
    }
   ],
   "source": [
    "stats_2018"
   ]
  },
  {
   "cell_type": "markdown",
   "id": "2237ac04-ab09-4874-a62a-9f6301f110c0",
   "metadata": {},
   "source": [
    "## Create visualizations"
   ]
  },
  {
   "cell_type": "code",
   "execution_count": 18,
   "id": "ef617a4f-cd54-4e97-896f-277950806601",
   "metadata": {},
   "outputs": [
    {
     "data": {
      "text/html": [
       "AI generated code inserted below &#11015;&#65039;"
      ],
      "text/plain": [
       "<IPython.core.display.HTML object>"
      ]
     },
     "execution_count": 18,
     "metadata": {
      "text/html": {
       "jupyter_ai": {
        "model_id": "gpt-4",
        "provider_id": "openai-chat"
       }
      }
     },
     "output_type": "execute_result"
    }
   ],
   "source": [
    "%%ai gpt4 -f code\n",
    "Using the dataframe established in {In[1]} and {Out[1]}, create a scatterplot of the electric range values (y axis) by model year (x axis).\n",
    "Name the chart as well as the axes. Use units in the axis names."
   ]
  },
  {
   "cell_type": "code",
   "execution_count": 19,
   "id": "5c756037-e243-4291-bf42-50a7bd2df4f0",
   "metadata": {},
   "outputs": [
    {
     "data": {
      "image/png": "[encoded data removed]",
      "text/plain": [
       "<Figure size 800x600 with 1 Axes>"
      ]
     },
     "metadata": {},
     "output_type": "display_data"
    }
   ],
   "source": [
    "import matplotlib.pyplot as plt\n",
    "\n",
    "# Scatter plot of Electric Range by Model Year\n",
    "plt.figure(figsize=(8,6))\n",
    "plt.scatter(df['Model Year'], df['Electric Range'])\n",
    "plt.title('Electric Range by Model Year')\n",
    "plt.xlabel('Model Year')\n",
    "plt.ylabel('Electric Range (miles)')\n",
    "plt.show()"
   ]
  },
  {
   "cell_type": "markdown",
   "id": "f1b057c9-9398-4a75-99ec-59630c9eee31",
   "metadata": {},
   "source": [
    "This scatterplot displays that while the number of vehicles with low range increased over time (likely due to the increase in electric vehicle popularity), the overall maximum range of the vehicles increased between 2000 and 2026 variants."
   ]
  },
  {
   "cell_type": "code",
   "execution_count": 20,
   "id": "201d1f6d-1ef8-4d7f-a48b-47b1c1549b13",
   "metadata": {},
   "outputs": [
    {
     "data": {
      "text/html": [
       "AI generated code inserted below &#11015;&#65039;"
      ],
      "text/plain": [
       "<IPython.core.display.HTML object>"
      ]
     },
     "execution_count": 20,
     "metadata": {
      "text/html": {
       "jupyter_ai": {
        "model_id": "gpt-4",
        "provider_id": "openai-chat"
       }
      }
     },
     "output_type": "execute_result"
    }
   ],
   "source": [
    "%%ai gpt4 -f code\n",
    "Using the dataframe established in {In[1]} and {Out[1]}, create a multi-line chart that shows the frequency (y axis) of the top 10 makes by model year (x axis).\n",
    "Color-code the line of each make, and include a legend that shows which color corresponds to which make.\n",
    "The chart and axes should have titles and units if necessary. Do not re-import matplotlib. "
   ]
  },
  {
   "cell_type": "code",
   "execution_count": 21,
   "id": "c8518b4f-5357-43b5-84d6-446642dbc5a4",
   "metadata": {},
   "outputs": [
    {
     "data": {
      "image/png": "[encoded data removed]",
      "text/plain": [
       "<Figure size 1000x800 with 1 Axes>"
      ]
     },
     "metadata": {},
     "output_type": "display_data"
    }
   ],
   "source": [
    "# Find the top 10 makes by frequency\n",
    "top_10_makes = df['Make'].value_counts().head(10).index\n",
    "\n",
    "# Filter the data to only include rows where the make is one of the top 10\n",
    "filtered_df = df[df['Make'].isin(top_10_makes)]\n",
    "\n",
    "# Create a pivot table for the frequencies of each make by model year\n",
    "pivot_df = filtered_df.pivot_table(index='Model Year', columns='Make', aggfunc='size', fill_value=0)\n",
    "\n",
    "# Multi-line chart\n",
    "plt.figure(figsize=(10,8))\n",
    "for column in pivot_df.columns:\n",
    "    plt.plot(pivot_df.index, pivot_df[column], label=column)\n",
    "\n",
    "plt.title('Frequency of Top 10 Makes by Model Year')\n",
    "plt.xlabel('Model Year')\n",
    "plt.ylabel('Frequency')\n",
    "plt.legend(loc='upper left')\n",
    "plt.show()"
   ]
  },
  {
   "cell_type": "markdown",
   "id": "808c2d95-6841-48e9-9ec0-2f5a97229af4",
   "metadata": {},
   "source": [
    "This chart shows the meteoric rise of Tesla as an electric vehicle manufacturer between the late-2010s and the mid-2020s. We can see an attempt by Chevrolet, immediately prior to Tesla's skyrocket, to make moves around 2016, but Tesla quickly overtakes them. There is a sharp decline in model-years from about 2023 onward, which could be due to a number of factors, including the steep price of new EVs as well as the election of Donald Trump, who promised to eliminate the EV tax incentives on a federal level."
   ]
  },
  {
   "cell_type": "markdown",
   "id": "da1671cf-88b6-41ea-b217-1fa5f587dff5",
   "metadata": {},
   "source": [
    "## Conclusion:\n",
    "\n",
    "### As I expected, Tesla has complete EV market domination in the state of Washington. This was unsurprising due to the company's cultural popularity and historical domination in the 2010s. This trend is clearly still ongoing, although it is possible (not proven) that sales are declining in recent years, though this may be simply due to the price of new cars overall."
   ]
  },
  {
   "cell_type": "code",
   "execution_count": null,
   "id": "0bbbb753-2810-4fc0-9e8d-3048b816d938",
   "metadata": {},
   "outputs": [],
   "source": []
  }
 ],
 "metadata": {
  "kernelspec": {
   "display_name": "conda_python3",
   "language": "python",
   "name": "conda_python3"
  },
  "language_info": {
   "codemirror_mode": {
    "name": "ipython",
    "version": 3
   },
   "file_extension": ".py",
   "mimetype": "text/x-python",
   "name": "python",
   "nbconvert_exporter": "python",
   "pygments_lexer": "ipython3",
   "version": "3.10.18"
  }
 },
 "nbformat": 4,
 "nbformat_minor": 5
}
