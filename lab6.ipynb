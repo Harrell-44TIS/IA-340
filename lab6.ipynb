{
 "cells": [
  {
   "cell_type": "markdown",
   "id": "359fdbc8-5f0b-4edc-84dd-ccdf5012eae0",
   "metadata": {},
   "source": [
    "# Lab 6 - Eliot Harrell - Analyze New Hampshire Census Data With AI"
   ]
  },
  {
   "cell_type": "markdown",
   "id": "ccaa1d0d-fdfe-4fea-985f-331c519bfaf1",
   "metadata": {},
   "source": [
    "## Secret Manager Function"
   ]
  },
  {
   "cell_type": "code",
   "execution_count": 1,
   "id": "09ecb525-3e7c-4211-882c-3af515484358",
   "metadata": {},
   "outputs": [],
   "source": [
    "import boto3\n",
    "from botocore.exceptions import ClientError\n",
    "import json\n",
    "\n",
    "def get_secret(secret_name):\n",
    "    region_name = \"us-east-1\"\n",
    "\n",
    "    # Create a Secrets Manager client\n",
    "    session = boto3.session.Session()\n",
    "    client = session.client(\n",
    "        service_name='secretsmanager',\n",
    "        region_name=region_name\n",
    "    )\n",
    "\n",
    "    try:\n",
    "        get_secret_value_response = client.get_secret_value(\n",
    "            SecretId=secret_name\n",
    "        )\n",
    "    except ClientError as e:\n",
    "        raise e\n",
    "\n",
    "    secret = get_secret_value_response['SecretString']\n",
    "    \n",
    "    return json.loads(secret)"
   ]
  },
  {
   "cell_type": "markdown",
   "id": "264533ee-ab7b-4af3-b99d-6faec22cb617",
   "metadata": {},
   "source": [
    "## Connect to Database"
   ]
  },
  {
   "cell_type": "code",
   "execution_count": 2,
   "id": "5a5b670f-6c6a-4925-89e5-ecc28ba60aba",
   "metadata": {},
   "outputs": [],
   "source": [
    "import psycopg2\n",
    "\n",
    "conn = psycopg2.connect(host=get_secret('postgresql')['host'],\n",
    "                      user=get_secret('postgresql')['username'],\n",
    "                      password = get_secret('postgresql')['password'],\n",
    "                      dbname=get_secret('postgresql')['engine'])\n",
    "\n",
    "cur = conn.cursor()"
   ]
  },
  {
   "cell_type": "markdown",
   "id": "9085a15e-29b4-4296-b4ef-3a4cbead78bc",
   "metadata": {},
   "source": [
    "Collect NH (fips = 33) Data in SQL and Add to Dataframe"
   ]
  },
  {
   "cell_type": "code",
   "execution_count": 3,
   "id": "beee7c9e-1aa9-4779-a15e-5f164115d96f",
   "metadata": {},
   "outputs": [],
   "source": [
    "sql = \"\"\"\n",
    "     select * from name_income\n",
    "     where fips = '33'\n",
    "     \"\"\""
   ]
  },
  {
   "cell_type": "code",
   "execution_count": 4,
   "id": "019112fc-c3cc-4bde-ada3-fd9d5423a655",
   "metadata": {},
   "outputs": [
    {
     "name": "stderr",
     "output_type": "stream",
     "text": [
      "/tmp/ipykernel_15815/1349906867.py:3: UserWarning: pandas only supports SQLAlchemy connectable (engine/connection) or database string URI or sqlite3 DBAPI2 connection. Other DBAPI2 objects are not tested. Please consider using SQLAlchemy.\n",
      "  nh_df = pd.read_sql(sql, con=conn)\n"
     ]
    },
    {
     "data": {
      "text/html": [
       "<div>\n",
       "<style scoped>\n",
       "    .dataframe tbody tr th:only-of-type {\n",
       "        vertical-align: middle;\n",
       "    }\n",
       "\n",
       "    .dataframe tbody tr th {\n",
       "        vertical-align: top;\n",
       "    }\n",
       "\n",
       "    .dataframe thead th {\n",
       "        text-align: right;\n",
       "    }\n",
       "</style>\n",
       "<table border=\"1\" class=\"dataframe\">\n",
       "  <thead>\n",
       "    <tr style=\"text-align: right;\">\n",
       "      <th></th>\n",
       "      <th>fips</th>\n",
       "      <th>name</th>\n",
       "      <th>income</th>\n",
       "      <th>year</th>\n",
       "    </tr>\n",
       "  </thead>\n",
       "  <tbody>\n",
       "    <tr>\n",
       "      <th>0</th>\n",
       "      <td>33</td>\n",
       "      <td>New Hampshire</td>\n",
       "      <td>56768</td>\n",
       "      <td>2005</td>\n",
       "    </tr>\n",
       "    <tr>\n",
       "      <th>1</th>\n",
       "      <td>33</td>\n",
       "      <td>New Hampshire</td>\n",
       "      <td>59683</td>\n",
       "      <td>2006</td>\n",
       "    </tr>\n",
       "    <tr>\n",
       "      <th>2</th>\n",
       "      <td>33</td>\n",
       "      <td>New Hampshire</td>\n",
       "      <td>62369</td>\n",
       "      <td>2007</td>\n",
       "    </tr>\n",
       "    <tr>\n",
       "      <th>3</th>\n",
       "      <td>33</td>\n",
       "      <td>New Hampshire</td>\n",
       "      <td>63731</td>\n",
       "      <td>2008</td>\n",
       "    </tr>\n",
       "    <tr>\n",
       "      <th>4</th>\n",
       "      <td>33</td>\n",
       "      <td>New Hampshire</td>\n",
       "      <td>60567</td>\n",
       "      <td>2009</td>\n",
       "    </tr>\n",
       "  </tbody>\n",
       "</table>\n",
       "</div>"
      ],
      "text/plain": [
       "  fips           name  income  year\n",
       "0   33  New Hampshire   56768  2005\n",
       "1   33  New Hampshire   59683  2006\n",
       "2   33  New Hampshire   62369  2007\n",
       "3   33  New Hampshire   63731  2008\n",
       "4   33  New Hampshire   60567  2009"
      ]
     },
     "execution_count": 4,
     "metadata": {},
     "output_type": "execute_result"
    }
   ],
   "source": [
    "import pandas as pd\n",
    "\n",
    "nh_df = pd.read_sql(sql, con=conn)\n",
    "nh_df.head() #show the top 5 rows"
   ]
  },
  {
   "cell_type": "markdown",
   "id": "cfbcae98-d5e6-4a04-934d-be49a3d41c73",
   "metadata": {},
   "source": [
    "Install AI Assistants"
   ]
  },
  {
   "cell_type": "code",
   "execution_count": 5,
   "id": "4b1c8873-b5b6-4887-a5e8-975c260483ee",
   "metadata": {},
   "outputs": [],
   "source": [
    "! pip install jupyter-ai-magics[all] -q"
   ]
  },
  {
   "cell_type": "code",
   "execution_count": 6,
   "id": "a73409ae-cd8e-48da-8998-c4521fcea3de",
   "metadata": {},
   "outputs": [],
   "source": [
    "import warnings\n",
    "warnings.simplefilter('ignore')"
   ]
  },
  {
   "cell_type": "code",
   "execution_count": 7,
   "id": "e9a67eab-9b84-4ab6-a1b7-8c16134fee42",
   "metadata": {},
   "outputs": [],
   "source": [
    "import os\n",
    "os.environ[\"OPENAI_API_KEY\"] = get_secret('openai')['api_key']"
   ]
  },
  {
   "cell_type": "code",
   "execution_count": 8,
   "id": "98da1ed7-2c8a-4307-9350-e971f4893048",
   "metadata": {},
   "outputs": [],
   "source": [
    "%load_ext jupyter_ai_magics"
   ]
  },
  {
   "cell_type": "code",
   "execution_count": 9,
   "id": "e66c29e4-9947-49b7-b635-b0870d08ccb3",
   "metadata": {},
   "outputs": [
    {
     "data": {
      "text/markdown": [
       "The data included shows the income trends in New Hampshire from year 2005 to 2019. Each row of the dataset contains the following information:\n",
       "\n",
       "- `fips`: A numerical code associated with New Hampshire, which appears to be '33' in all entries.\n",
       "- `name`: The name of the state, in this case, New Hampshire.\n",
       "- `income`: The annual income recorded in the state for the corresponding year.\n",
       "- `year`: The specific year in which the income was recorded. It ranges from 2005 to 2019 in this data."
      ],
      "text/plain": [
       "<IPython.core.display.Markdown object>"
      ]
     },
     "execution_count": 9,
     "metadata": {
      "text/markdown": {
       "jupyter_ai": {
        "model_id": "gpt-4",
        "provider_id": "openai-chat"
       }
      }
     },
     "output_type": "execute_result"
    }
   ],
   "source": [
    "%%ai gpt4\n",
    "What is included in the {nh_df}"
   ]
  },
  {
   "cell_type": "code",
   "execution_count": 10,
   "id": "8e07c419-db49-498b-bc69-179f1571e8d1",
   "metadata": {},
   "outputs": [],
   "source": [
    "import pandas as pd\n",
    "\n",
    "# Execute the SQL command using cursor `cur`\n",
    "cur.execute(\"SELECT * FROM name_income\")\n",
    "\n",
    "# Fetch all rows from the last executed statement using `fetchall()` method\n",
    "data = cur.fetchall()\n",
    "\n",
    "# Get the column names for the data\n",
    "column_names = [desc[0] for desc in cur.description]\n",
    "\n",
    "# Convert the data into DataFrame\n",
    "df = pd.DataFrame(data, columns = column_names)\n"
   ]
  },
  {
   "cell_type": "markdown",
   "id": "ee33ef0e-acd9-4e72-becf-f16ea37eed1c",
   "metadata": {},
   "source": [
    "SQL query to get population data per year in NH:"
   ]
  },
  {
   "cell_type": "code",
   "execution_count": 11,
   "id": "41a6c94f-cf73-4e78-8cd3-b3bbca020c3f",
   "metadata": {},
   "outputs": [],
   "source": [
    "query = f\"\"\"\n",
    "SELECT \n",
    "    p.year,\n",
    "    p.pop AS population,\n",
    "    ROUND(\n",
    "        100.0 * (p.pop - LAG(p.pop) OVER (ORDER BY p.year)) / LAG(p.pop) OVER (ORDER BY p.year),\n",
    "        2\n",
    "    ) AS growth_rate_percent\n",
    "FROM population p\n",
    "JOIN name n ON p.fips = n.fips\n",
    "WHERE n.name = 'New Hampshire'\n",
    "ORDER BY p.year;\n",
    "\"\"\""
   ]
  },
  {
   "cell_type": "code",
   "execution_count": 12,
   "id": "34f1e0b8-e00e-434b-b486-d4035990a1e8",
   "metadata": {},
   "outputs": [
    {
     "data": {
      "text/html": [
       "AI generated code inserted below &#11015;&#65039;"
      ],
      "text/plain": [
       "<IPython.core.display.HTML object>"
      ]
     },
     "execution_count": 12,
     "metadata": {
      "text/html": {
       "jupyter_ai": {
        "model_id": "gpt-4",
        "provider_id": "openai-chat"
       }
      }
     },
     "output_type": "execute_result"
    }
   ],
   "source": [
    "%%ai gpt4 -f code\n",
    "using the query from {In[11]} and the previous information, make a line graph that displays the population growth rate per year in new hampshire\n",
    "include the state name in the title"
   ]
  },
  {
   "cell_type": "code",
   "execution_count": 13,
   "id": "022d5218-f7b7-4e6c-b666-58972ef1e2dd",
   "metadata": {},
   "outputs": [
    {
     "data": {
      "image/png": "[encoded data removed]",
      "text/plain": [
       "<Figure size 1400x700 with 1 Axes>"
      ]
     },
     "metadata": {},
     "output_type": "display_data"
    }
   ],
   "source": [
    "import matplotlib.pyplot as plt\n",
    "\n",
    "# Define the SQL command\n",
    "query = \"\"\"\n",
    "SELECT \n",
    "    p.year,\n",
    "    p.pop AS population,\n",
    "    ROUND(\n",
    "        100.0 * (p.pop - LAG(p.pop) OVER (ORDER BY p.year)) / LAG(p.pop) OVER (ORDER BY p.year),\n",
    "        2\n",
    "    ) AS growth_rate_percent\n",
    "FROM population p\n",
    "JOIN name n ON p.fips = n.fips\n",
    "WHERE n.name = 'New Hampshire'\n",
    "ORDER BY p.year;\n",
    "\"\"\"\n",
    "\n",
    "# Use pandas to directly turn SQL query into dataframe\n",
    "df = pd.read_sql(query, conn)\n",
    "\n",
    "# Plotting the data\n",
    "plt.figure(figsize=(14,7))\n",
    "plt.plot(df['year'], df['growth_rate_percent'])\n",
    "plt.title(\"Population Growth Rate Per Year in New Hampshire\")\n",
    "plt.xlabel(\"Year\")\n",
    "plt.ylabel(\"Growth Rate (%)\")\n",
    "plt.show()"
   ]
  },
  {
   "cell_type": "markdown",
   "id": "bc2f5b97-4ba4-4f34-93c8-70fe444197c2",
   "metadata": {},
   "source": [
    "The above graph shows the rate of population growth (and decline) between 2005 and 2019. We can see an initial decline, an anomalous spike and dip, and then a steady rise followed by a dropoff in 2019."
   ]
  },
  {
   "cell_type": "code",
   "execution_count": null,
   "id": "0176841e-599b-48f4-b82c-6de603f6f028",
   "metadata": {},
   "outputs": [],
   "source": []
  }
 ],
 "metadata": {
  "kernelspec": {
   "display_name": "conda_python3",
   "language": "python",
   "name": "conda_python3"
  },
  "language_info": {
   "codemirror_mode": {
    "name": "ipython",
    "version": 3
   },
   "file_extension": ".py",
   "mimetype": "text/x-python",
   "name": "python",
   "nbconvert_exporter": "python",
   "pygments_lexer": "ipython3",
   "version": "3.10.18"
  }
 },
 "nbformat": 4,
 "nbformat_minor": 5
}
